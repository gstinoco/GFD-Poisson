{
 "cells": [
  {
   "attachments": {},
   "cell_type": "markdown",
   "metadata": {},
   "source": [
    "# GFD-Poisson\n",
    "Generalized Finite Differences Methods for numerically solve Poisson Equation on highly irregular regions.\n",
    "\n",
    "Below are examples of the implementation of a Generalized Finite Difference Method to compute an approximation to the solution of the Poisson equation in 2D.\n",
    "\n",
    "The problem to solve is\n",
    "\\begin{equation}\n",
    "     \\frac{\\partial^2}{\\partial x^2} \\phi(x,y) + \\frac{\\partial^2}{\\partial y^2} \\phi(x,y) = -f(x,y)\n",
    "\\end{equation}"
   ]
  },
  {
   "attachments": {},
   "cell_type": "markdown",
   "metadata": {},
   "source": [
    "## Logically Rectangular Meshes\n",
    "\n",
    "Due to advances in the numerical generation of structured meshes, it is possible to mesh highly irregular regions.\n",
    "\n",
    "For example, the CUI region (standing for Cuitzeo Lake),\n",
    "\n",
    "<center><img src=\"/Notebook_Figures/fig01.png\" alt=\"Cuitzeo Lake region\" width=\"240\" height=\"240\"/></center>\n",
    "\n",
    "can be meshed as\n",
    "\n",
    "<center><img src=\"/Notebook_Figures/fig02.png\" alt=\"Cuitzeo mesh\" width=\"240\" height=\"240\"/></center>\n",
    "\n",
    "One of the greatest advantages of structured grides is that it is possible to take advantage of the data structure to make numerical approximations over them."
   ]
  },
  {
   "attachments": {},
   "cell_type": "markdown",
   "metadata": {},
   "source": [
    "### Python Modules Importation\n",
    "The first thing that we have to do is to import all the Python modules that will be used for the approximation. In the following code, we import the Modules:\n",
    "- scipy.io.loadmat: In order to import data from Matlab files.\n",
    "- numpy: In order to be able to use numerical computing.\n",
    "- matplotlib.pyplot: In order to be able to graph the results.\n",
    "- matplotlib.cm: To use different colormaps for the graphics."
   ]
  },
  {
   "cell_type": "code",
   "execution_count": 11,
   "metadata": {},
   "outputs": [],
   "source": [
    "from scipy.io import loadmat\n",
    "import numpy as np\n",
    "import matplotlib.pyplot as plt\n",
    "from matplotlib import cm"
   ]
  },
  {
   "attachments": {},
   "cell_type": "markdown",
   "metadata": {},
   "source": [
    "### Getting the region data\n",
    "Now, it is required to have all the data of the region loaded into Python variables."
   ]
  },
  {
   "cell_type": "code",
   "execution_count": 12,
   "metadata": {},
   "outputs": [],
   "source": [
    "mat  = loadmat('Data/Meshes/CUI21.mat')                                         # The data is loaded form a .mat file.\n",
    "x  = mat['x']                                                                   # The x-coordinates are saved in x.\n",
    "y  = mat['y']                                                                   # The y-coordinates are saved in y."
   ]
  },
  {
   "attachments": {},
   "cell_type": "markdown",
   "metadata": {},
   "source": [
    "### Variable Initialization\n",
    "In order to correctly compute the approximation, some variables are required to be initialized."
   ]
  },
  {
   "cell_type": "code",
   "execution_count": 13,
   "metadata": {},
   "outputs": [],
   "source": [
    "me    = x.shape                                                                 # The size of the mesh is found.\n",
    "m     = me[0]                                                                   # The number of nodes in x.\n",
    "n     = me[1]                                                                   # The number of nodes in y.\n",
    "err   = 1                                                                       # err initialization in 1.\n",
    "iter  = 0                                                                       # Number of iterations.\n",
    "tol   = 1e-16                                                                   # The tolerance is defined.\n",
    "m_it  = 400                                                                     # Maximum number of iterations.\n",
    "u_ap  = np.zeros([m,n])                                                         # u_ap initialization with zeros.\n",
    "u_ex  = np.zeros([m,n])                                                         # u_ex initialization with zeros.\n",
    "Gamma = np.zeros([m,n,9])                                                       # Gamma initialization with zeros."
   ]
  },
  {
   "attachments": {},
   "cell_type": "markdown",
   "metadata": {},
   "source": [
    "### Boundary conditions\n",
    "The boundary conditions must be defined. For this example, we will define the condition as:\n",
    "\n",
    "\\begin{equation}\n",
    "    \\phi = 2e^{2x+y}\n",
    "\\end{equation}"
   ]
  },
  {
   "cell_type": "code",
   "execution_count": 14,
   "metadata": {},
   "outputs": [],
   "source": [
    "def phi(x,y):                                                                   # Definition of the Phi function.\n",
    "    fun = 2*np.exp(2*x+y)                                                       # Phi condition.\n",
    "    return fun                                                                  # Return phi.\n",
    "\n",
    "for i in range(m):                                                              # For each of the nodes on the x boundaries.\n",
    "    u_ap[i, 0]   = phi(x[i, 0],   y[i, 0])                                      # The boundary condition is assigned at the first y.\n",
    "    u_ap[i, n-1] = phi(x[i, n-1], y[i, n-1])                                    # The boundary condition is assigned at the last y.\n",
    "for j in range(n):                                                              # For each of the nodes on the y boundaries.\n",
    "    u_ap[0,   j] = phi(x[0,   j], y[0,   j])                                    # The boundary condition is assigned at the first x.\n",
    "    u_ap[m-1, j] = phi(x[m-1, j], y[m-1, j])                                    # The boundary condition is assigned at the last x."
   ]
  },
  {
   "attachments": {},
   "cell_type": "markdown",
   "metadata": {},
   "source": [
    "### Gammas\n",
    "The Gammas are the \"weights\" that will be used in order to have a a Finite Difference-based approximation."
   ]
  },
  {
   "cell_type": "code",
   "execution_count": 15,
   "metadata": {},
   "outputs": [],
   "source": [
    "L = np.vstack([[0], [0], [2], [0], [2]])                                        # The values of the differential operator are assigned.\n",
    "\n",
    "for i in range(1,m-1):                                                          # For each of the nodes in x.\n",
    "    for j in range(1,n-1):                                                      # For each of the nodes in y.\n",
    "        dx = np.array([x[i + 1, j]   - x[i, j], x[i + 1, j + 1] - x[i, j], \\\n",
    "                       x[i, j + 1]   - x[i, j], x[i - 1, j + 1] - x[i, j], \\\n",
    "                       x[i - 1, j]   - x[i, j], x[i - 1, j - 1] - x[i, j], \\\n",
    "                       x[i, j - 1]   - x[i, j], x[i + 1, j - 1] - x[i, j]])     # dx is computed.\n",
    "            \n",
    "        dy = np.array([y[i + 1, j]   - y[i, j], y[i + 1, j + 1] - y[i, j], \\\n",
    "                       y[i, j + 1]   - y[i, j], y[i - 1, j + 1] - y[i, j], \\\n",
    "                       y[i - 1, j]   - y[i, j], y[i - 1, j - 1] - y[i, j], \\\n",
    "                       y[i, j - 1]   - y[i, j], y[i + 1, j - 1] - y[i, j]])     # dy is computed.\n",
    "            \n",
    "        M = np.vstack([[dx], [dy], [dx**2], [dx*dy], [dy**2]])                  # M matrix is assembled.\n",
    "        M = np.linalg.pinv(M)                                                   # The pseudoinverse of matrix M.\n",
    "        YY = M@L                                                                # M*L computation.\n",
    "        Gem = np.vstack([-sum(YY), YY])                                         # Gamma values are found.\n",
    "        for k in range(9):                                                      # For each of the Gamma values.\n",
    "            Gamma[i,j,k] = Gem[k]  "
   ]
  },
  {
   "attachments": {},
   "cell_type": "markdown",
   "metadata": {},
   "source": [
    "### Generalized Finite Differences Method\n",
    "With the computed Gammas, it is possible to apply a Finite Difference Method in order to get an approximation.\n",
    "\n",
    "It is required to have the \"right-hand-size\" of Poisson equation, for this case, this will be defined as:\n",
    "\\begin{equation}\n",
    "    f = 10e^{2x+y}\n",
    "\\end{equation}"
   ]
  },
  {
   "cell_type": "code",
   "execution_count": 16,
   "metadata": {},
   "outputs": [],
   "source": [
    "def f(x,y):                                                                     # Definition of the f function.\n",
    "    fun = 10*np.exp(2*x+y)                                                      # f condition.\n",
    "    return fun                                                                  # Return f.\n",
    "\n",
    "while err >= tol and iter <= m_it:                                              # Check for iterations and tolerance.\n",
    "    err = 0                                                                     # Error becomes zero to be able to update.\n",
    "    for i in range(1,m-1):                                                      # For each of the nodes on the x axis.\n",
    "        for j in range(1,n-1):                                                  # For each of the nodes on the y axis.\n",
    "            t = (f(x[i, j], y[i, j]) - (            \\\n",
    "                Gamma[i, j, 1]*u_ap[i + 1, j    ] + \\\n",
    "                Gamma[i, j, 2]*u_ap[i + 1, j + 1] + \\\n",
    "                Gamma[i, j, 3]*u_ap[i    , j + 1] + \\\n",
    "                Gamma[i, j, 4]*u_ap[i - 1, j + 1] + \\\n",
    "                Gamma[i, j, 5]*u_ap[i - 1, j    ] + \\\n",
    "                Gamma[i, j, 6]*u_ap[i - 1, j - 1] + \\\n",
    "                Gamma[i, j, 7]*u_ap[i    , j - 1] + \\\n",
    "                Gamma[i, j, 8]*u_ap[i + 1, j - 1]))/Gamma[i, j, 0]              # u_ap is calculated at the central node.\n",
    "            err = max(err, abs(t - u_ap[i, j]));                                # Error computation.\n",
    "            u_ap[i,j] = t;                                                      # The previously computed value is assigned.\n",
    "    iter += 1 "
   ]
  },
  {
   "attachments": {},
   "cell_type": "markdown",
   "metadata": {},
   "source": [
    "###"
   ]
  },
  {
   "attachments": {},
   "cell_type": "markdown",
   "metadata": {},
   "source": [
    "### Theoretical Solution\n",
    "For this example, the theoretical solution can be computed as the boundary condition, and it will be computed in order to have a point of comparison for the computed numerical solution."
   ]
  },
  {
   "cell_type": "code",
   "execution_count": 17,
   "metadata": {},
   "outputs": [],
   "source": [
    "for i in range(m):                                                              # For all the nodes on x.\n",
    "    for j in range(n):                                                          # For all the nodes on y.\n",
    "        u_ex[i,j] = phi(x[i,j], y[i,j])                                         # The theoretical solution is computed."
   ]
  },
  {
   "attachments": {},
   "cell_type": "markdown",
   "metadata": {},
   "source": [
    "### Error\n",
    "The error can be computed as the mean square error given by\n",
    "\\begin{equation}\n",
    "    \\mid e \\mid^2 = \\left(\\sqrt{\\sum_{i,j} (u_{i,j} - U_{i,j})}\\right) A_{i,j}\n",
    "\\end{equation}\n",
    "\n",
    "where $u_{i,j},j$ and $U_{i,j}$ are the computed and theoretical solution, respectively, and $A_{i,j}$ is the area of the corresponding polygon given by the neighbor nodes."
   ]
  },
  {
   "cell_type": "code",
   "execution_count": 18,
   "metadata": {},
   "outputs": [],
   "source": [
    "def PolyArea(x,y):\n",
    "    area = 0.5*np.abs(np.dot(x, np.roll(y, 1)) - np.dot(y, np.roll(x, 1)))      # Area of the polygon given by the x and y coordinates.\n",
    "    return area"
   ]
  },
  {
   "cell_type": "code",
   "execution_count": 20,
   "metadata": {},
   "outputs": [
    {
     "name": "stdout",
     "output_type": "stream",
     "text": [
      "The mean square error in the mesh is:  0.002723586345478777\n"
     ]
    }
   ],
   "source": [
    "err   = 0                                                                       # err initialization with 0.\n",
    "area = np.zeros([m,n])                                                          # area initialization with zeros.\n",
    "\n",
    "for i in np.arange(1,m-1):                                                      # For each of the nodes on the x axis.\n",
    "    for j in np.arange(1,n-1):                                                  # For each of the nodes on the y axis.\n",
    "        px = np.array([x[i+1, j], x[i+1, j+1], x[i, j+1], x[i-1, j+1], \\\n",
    "                       x[i-1, j], x[i-1, j-1], x[i, j-1], x[i+1, j-1]])         # The x-values of the polygon are stored.\n",
    "        py = np.array([y[i+1, j], y[i+1, j+1], y[i, j+1], y[i-1, j+1], \\\n",
    "                       y[i-1, j], y[i-1, j-1], y[i, j-1], y[i+1, j-1]])         # The y-values of the polygon are stored.\n",
    "        area[i,j] = PolyArea(px,py)                                             # Area computation.\n",
    "\n",
    "for i in np.arange(m):                                                          # For each of the nodes on the x axis.\n",
    "    for j in np.arange(n):                                                      # For each of the nodes on the y axis.\n",
    "        err = err + area[i,j]*(u_ap[i,j] - u_ex[i,j])**2                        # Mean error computation.\n",
    "    \n",
    "err = np.sqrt(err)                                                              # The mean square error.\n",
    "\n",
    "print('The mean square error in the mesh is: ', err)"
   ]
  },
  {
   "attachments": {},
   "cell_type": "markdown",
   "metadata": {},
   "source": [
    "### Graphics\n",
    "It is possible to graph the computed solution along with the theoretical solution to get a graphical idea on how good the approximation is."
   ]
  },
  {
   "cell_type": "code",
   "execution_count": null,
   "metadata": {},
   "outputs": [],
   "source": [
    "min  = u_ex.min()\n",
    "max  = u_ex.max()\n",
    "    \n",
    "fig, (ax1, ax2) = plt.subplots(1, 2, subplot_kw={\"projection\": \"3d\"}, figsize=(8, 4))\n",
    "    \n",
    "ax1.set_title('Approximation')\n",
    "ax1.set_zlim([min, max])\n",
    "ax1.plot_surface(x, y, u_ap, cmap=cm.coolwarm)\n",
    "    \n",
    "ax2.set_title('Theoretical Solution')\n",
    "ax2.set_zlim([min, max])\n",
    "ax2.plot_surface(x, y, u_ex, cmap=cm.coolwarm)\n",
    "\n",
    "plt.show()"
   ]
  }
 ],
 "metadata": {
  "kernelspec": {
   "display_name": "base",
   "language": "python",
   "name": "python3"
  },
  "language_info": {
   "codemirror_mode": {
    "name": "ipython",
    "version": 3
   },
   "file_extension": ".py",
   "mimetype": "text/x-python",
   "name": "python",
   "nbconvert_exporter": "python",
   "pygments_lexer": "ipython3",
   "version": "3.9.13"
  },
  "orig_nbformat": 4,
  "vscode": {
   "interpreter": {
    "hash": "f682deb2393a4140b182879f0268b0c56569bf9c2171207c617f1e95735c77c8"
   }
  }
 },
 "nbformat": 4,
 "nbformat_minor": 2
}
