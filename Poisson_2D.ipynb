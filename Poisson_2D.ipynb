{
 "cells": [
  {
   "attachments": {},
   "cell_type": "markdown",
   "metadata": {},
   "source": [
    "# GFD-Poisson\n",
    "Generalized Finite Differences Methods for numerically solve Poisson Equation on highly irregular regions.\n",
    "\n",
    "Below are examples of the implementation of a Generalized Finite Difference Method to compute an approximation to the solution of the Poisson equation in 2D.\n",
    "\n",
    "The problem to solve is\n",
    "\\begin{align}\n",
    "     \\frac{\\partial^2}{\\partial x^2} \\phi(x,y) + \\frac{\\partial^2}{\\partial y^2} \\phi(x,y) = -f(x,y)\n",
    "\\end{align}"
   ]
  },
  {
   "attachments": {},
   "cell_type": "markdown",
   "metadata": {},
   "source": [
    "## Logically Rectangular Meshes\n",
    "\n",
    "Due to advances in the numerical generation of structured meshes, it is possible to mesh highly irregular regions.\n",
    "\n",
    "For example, the CUI region (standing for Cuitzeo Lake)<br>\n",
    "    ![Cuitzeo Lake region](/Notebook_Figures/fig01.png#center)\n",
    "\n",
    "\n",
    "can be meshed as<br>\n",
    "    ![Cuitzeo mesh](/Notebook_Figures/fig02.png#center)\n"
   ]
  }
 ],
 "metadata": {
  "kernelspec": {
   "display_name": "base",
   "language": "python",
   "name": "python3"
  },
  "language_info": {
   "name": "python",
   "version": "3.9.13 (main, Oct 13 2022, 16:12:30) \n[Clang 12.0.0 ]"
  },
  "orig_nbformat": 4,
  "vscode": {
   "interpreter": {
    "hash": "f682deb2393a4140b182879f0268b0c56569bf9c2171207c617f1e95735c77c8"
   }
  }
 },
 "nbformat": 4,
 "nbformat_minor": 2
}
