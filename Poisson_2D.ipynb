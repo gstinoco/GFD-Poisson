{
 "cells": [
  {
   "attachments": {},
   "cell_type": "markdown",
   "metadata": {},
   "source": [
    "# GFD-Poisson\n",
    "Generalized Finite Differences Methods for numerically solve Poisson Equation on highly irregular regions."
   ]
  },
  {
   "attachments": {},
   "cell_type": "markdown",
   "metadata": {},
   "source": [
    "## Description\n",
    "This repository proposes a way to make an approximation to the Poisson Equation in two dimensions over regions that can range from regular (CUA) to highly irregular (ENG).\n",
    "\n",
    "For this, the proposed solution uses a Generalized Finite Differences Method for the numerical solution over all the regions on:<br>\n",
    "1. Logically Rectangular Meshes.\n",
    "2. Triangulations.\n",
    "3. Irregular clouds of points."
   ]
  }
 ],
 "metadata": {
  "kernelspec": {
   "display_name": "base",
   "language": "python",
   "name": "python3"
  },
  "language_info": {
   "name": "python",
   "version": "3.9.13 (main, Oct 13 2022, 16:12:30) \n[Clang 12.0.0 ]"
  },
  "orig_nbformat": 4,
  "vscode": {
   "interpreter": {
    "hash": "f682deb2393a4140b182879f0268b0c56569bf9c2171207c617f1e95735c77c8"
   }
  }
 },
 "nbformat": 4,
 "nbformat_minor": 2
}
