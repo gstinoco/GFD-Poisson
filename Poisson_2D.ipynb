{
 "cells": [
  {
   "attachments": {},
   "cell_type": "markdown",
   "metadata": {},
   "source": [
    "# GFD-Poisson\n",
    "Generalized Finite Differences Methods for numerically solve Poisson Equation on highly irregular regions.\n",
    "\n",
    "Below are examples of the implementation of a Generalized Finite Difference Method to compute an approximation to the solution of the Poisson equation in 2D.\n",
    "\n",
    "The problem to solve is\n",
    "\\begin{equation}\n",
    "     \\frac{\\partial^2}{\\partial x^2} \\phi(x,y) + \\frac{\\partial^2}{\\partial y^2} \\phi(x,y) = -f(x,y)\n",
    "\\end{equation}"
   ]
  },
  {
   "attachments": {},
   "cell_type": "markdown",
   "metadata": {},
   "source": [
    "## Logically Rectangular Meshes\n",
    "\n",
    "Due to advances in the numerical generation of structured meshes, it is possible to mesh highly irregular regions.\n",
    "\n",
    "For example, the CUI region (standing for Cuitzeo Lake),\n",
    "\n",
    "<center><img src=\"/Notebook_Figures/fig01.png\" alt=\"Cuitzeo Lake region\" width=\"240\" height=\"240\"/></center>\n",
    "\n",
    "can be meshed as\n",
    "\n",
    "<center><img src=\"/Notebook_Figures/fig02.png\" alt=\"Cuitzeo mesh\" width=\"240\" height=\"240\"/></center>\n",
    "\n",
    "One of the greatest advantages of structured grides is that it is possible to take advantage of the data structure to make numerical approximations over them."
   ]
  },
  {
   "attachments": {},
   "cell_type": "markdown",
   "metadata": {},
   "source": [
    "### Python Modules Importation\n",
    "The first thing that we have to do is to import all the Python modules that will be used for the approximation. In the following code, we import the Modules:\n",
    "- scipy.io.loadmat: In order to import data from Matlab files.\n",
    "- numpy: In order to be able to use numerical computing.\n",
    "- matplotlib.pyplot: In order to be able to graph the results.\n",
    "- matplotlib.cm: To use different colormaps for the graphics."
   ]
  },
  {
   "cell_type": "code",
   "execution_count": null,
   "metadata": {},
   "outputs": [],
   "source": [
    "from scipy.io import loadmat\n",
    "import numpy as np\n",
    "import matplotlib.pyplot as plt\n",
    "from matplotlib import cm"
   ]
  },
  {
   "attachments": {},
   "cell_type": "markdown",
   "metadata": {},
   "source": [
    "### Getting the region data\n",
    "Now, it is required to have all the data of the region loaded into Python variables."
   ]
  },
  {
   "cell_type": "code",
   "execution_count": null,
   "metadata": {},
   "outputs": [],
   "source": [
    "mat  = loadmat('Data/Meshes/CUI21.mat')                                     # The data is loaded form a .mat file.\n",
    "x  = mat['x']                                                               # The x-coordinates are saved in x.\n",
    "y  = mat['y']                                                               # The y-coordinates are saved in y."
   ]
  },
  {
   "attachments": {},
   "cell_type": "markdown",
   "metadata": {},
   "source": [
    "### Boundary conditions\n",
    "The boundary conditions must be defined. For this example, we will define the conditions as:\n",
    "\n",
    "\\begin{equation}\n",
    "    \\phi = 2e^{2x+y}\n",
    "    \\label{phi}\n",
    "\\end{equation}\n",
    "and\n",
    "\\begin{equation}\n",
    "    f = 10e^{2x+y}\n",
    "\\end{equation}"
   ]
  }
 ],
 "metadata": {
  "kernelspec": {
   "display_name": "base",
   "language": "python",
   "name": "python3"
  },
  "language_info": {
   "name": "python",
   "version": "3.9.13 (main, Oct 13 2022, 16:12:30) \n[Clang 12.0.0 ]"
  },
  "orig_nbformat": 4,
  "vscode": {
   "interpreter": {
    "hash": "f682deb2393a4140b182879f0268b0c56569bf9c2171207c617f1e95735c77c8"
   }
  }
 },
 "nbformat": 4,
 "nbformat_minor": 2
}
